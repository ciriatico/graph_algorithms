{
 "cells": [
  {
   "cell_type": "code",
   "execution_count": 1,
   "id": "23366662",
   "metadata": {},
   "outputs": [],
   "source": [
    "# Pseudocódigo usado: https://miro.medium.com/max/818/0*LCz7ydwrvyoxgTVG."
   ]
  },
  {
   "cell_type": "code",
   "execution_count": 20,
   "id": "290dc63b",
   "metadata": {},
   "outputs": [],
   "source": [
    "def gale_shapley_couples(men, women):\n",
    "    engaged = []\n",
    "    couples = []\n",
    "    \n",
    "    free = [m for m in men.keys() if m not in engaged]\n",
    "    men_proposals = {m: [] for m in men.keys()}\n",
    "    # A condição para o laço rodar é ter homem livre e que não pediu em noivado todas as mulheres da sua lista\n",
    "    free_not_proposed = [m for m in free if len(men_proposals[m]) != len(women)]\n",
    "    \n",
    "    while len(free_not_proposed) != 0:\n",
    "        m = free_not_proposed[0]\n",
    "        w = [w for w in men[m] if w not in men_proposals[m]][0]\n",
    "\n",
    "        if w not in engaged:\n",
    "            couples.append([m, w])\n",
    "            engaged.append(m)\n",
    "            engaged.append(w)\n",
    "\n",
    "        else:\n",
    "            # Se a mulher estiver noivada, é preciso checar se m agrada mais ela que o noivo\n",
    "            fiance = [couple for couple in couples if couple[1] == w][0][0]\n",
    "\n",
    "            if women[w].index(m) < women[w].index(fiance):\n",
    "                # Se a mulher preferir m, o noivado acaba e o noivo fica livre novamente\n",
    "                engaged.pop(engaged.index(fiance))\n",
    "                couples.pop(couples.index([fiance, w]))\n",
    "                couples.append([m, w])\n",
    "\n",
    "                engaged.append(m)\n",
    "                engaged.append(w)\n",
    "\n",
    "        men_proposals[m].append(w)\n",
    "\n",
    "        free = [m for m in men.keys() if m not in engaged]\n",
    "        free_not_proposed = [m for m in free if len(men_proposals[m]) != len(men[m])]\n",
    "    \n",
    "    # Ordenando os casais com base no homem, primeiro na posição de casais\n",
    "    couples.sort()\n",
    "    \n",
    "    return couples"
   ]
  },
  {
   "cell_type": "code",
   "execution_count": 21,
   "id": "d2110eef",
   "metadata": {},
   "outputs": [],
   "source": [
    "# Utilizando a lista dada na lista 15\n",
    "\n",
    "men = {\n",
    "    1: [5, 7, 1, 2, 6, 8, 4, 3],\n",
    "    2: [2, 3, 7, 5, 4, 1, 8, 6],\n",
    "    3: [8, 5, 1, 4, 6, 2, 3, 7],\n",
    "    4: [3, 2, 7, 4, 1, 6, 8, 5],\n",
    "    5: [7, 2, 5, 1, 3, 6, 8 ,4],\n",
    "    6: [1, 6, 7, 5, 8, 4, 2, 3],\n",
    "    7: [2, 5, 7, 6, 3, 4, 8, 1],\n",
    "    8: [3, 8, 4, 5, 7, 2, 6, 1]\n",
    "}\n",
    "\n",
    "women = {\n",
    "    1: [5, 3, 7, 6, 1, 2, 8, 4],\n",
    "    2: [8, 6, 3, 5, 7, 2, 1, 4],\n",
    "    3: [1, 5, 6, 2, 4, 8, 7, 3],\n",
    "    4: [8, 7, 3, 2, 4, 1, 5, 6],\n",
    "    5: [6, 4, 7, 3, 8, 1, 2, 5],\n",
    "    6: [2, 8, 5, 3, 4, 6, 7, 1],\n",
    "    7: [7, 5, 2, 1, 8, 6, 4, 3],\n",
    "    8: [7, 4, 1, 5, 2, 3, 6, 8]\n",
    "}"
   ]
  },
  {
   "cell_type": "code",
   "execution_count": 22,
   "id": "7729476a",
   "metadata": {},
   "outputs": [],
   "source": [
    "men2 = {\"m\" + str(m): [] for m in men}\n",
    "\n",
    "for m in men:\n",
    "    j = [j for j in men2.keys() if str(m) in j][0]\n",
    "    \n",
    "    for i in men[m]:\n",
    "        men2[j].append(\"w\" + str(i))"
   ]
  },
  {
   "cell_type": "code",
   "execution_count": 23,
   "id": "f4a027f0",
   "metadata": {},
   "outputs": [],
   "source": [
    "women2 = {\"w\" + str(w): [] for w in women}\n",
    "\n",
    "for w in women:\n",
    "    j = [j for j in women2.keys() if str(w) in j][0]\n",
    "    \n",
    "    for i in women[w]:\n",
    "        women2[j].append(\"m\" + str(i))"
   ]
  },
  {
   "cell_type": "code",
   "execution_count": 24,
   "id": "a90d08b8",
   "metadata": {},
   "outputs": [
    {
     "data": {
      "text/plain": [
       "[['m1', 'w5'],\n",
       " ['m2', 'w3'],\n",
       " ['m3', 'w8'],\n",
       " ['m4', 'w6'],\n",
       " ['m5', 'w7'],\n",
       " ['m6', 'w1'],\n",
       " ['m7', 'w2'],\n",
       " ['m8', 'w4']]"
      ]
     },
     "execution_count": 24,
     "metadata": {},
     "output_type": "execute_result"
    }
   ],
   "source": [
    "gale_shapley_couples(men2, women2)"
   ]
  },
  {
   "cell_type": "code",
   "execution_count": null,
   "id": "ae3f339d",
   "metadata": {},
   "outputs": [],
   "source": []
  }
 ],
 "metadata": {
  "kernelspec": {
   "display_name": "Python 3",
   "language": "python",
   "name": "python3"
  },
  "language_info": {
   "codemirror_mode": {
    "name": "ipython",
    "version": 3
   },
   "file_extension": ".py",
   "mimetype": "text/x-python",
   "name": "python",
   "nbconvert_exporter": "python",
   "pygments_lexer": "ipython3",
   "version": "3.8.8"
  }
 },
 "nbformat": 4,
 "nbformat_minor": 5
}
