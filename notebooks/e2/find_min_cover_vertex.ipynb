{
 "cells": [
  {
   "cell_type": "code",
   "execution_count": 1,
   "id": "2dcb09f7",
   "metadata": {},
   "outputs": [],
   "source": [
    "# Algoritmo visto na aula 10: https://youtu.be/r5AMx-D6Z60?t=1236\n",
    "# Na aula é explicado de forma confusa. Não explica que o algoritmo mostra os maximais e não o máximo\n",
    "# Também não explica que C = V(G) − I, onde I é o conjunto independente máximo\n",
    "# Aqui explica melhor: https://www.ime.usp.br/~pf/analise_de_algoritmos/aulas/v-cover.html"
   ]
  },
  {
   "cell_type": "code",
   "execution_count": 2,
   "id": "7fd6e2c3",
   "metadata": {},
   "outputs": [],
   "source": [
    "def find_maximal_independent_set(graph, in_v):\n",
    "    states = {}\n",
    "    v_g = list(graph.keys())\n",
    "    \n",
    "    # No algoritmo, uso o dict. Mas para facilitar no output, faço append em list e devolvo a lista\n",
    "    ind_set = []\n",
    "    nind_set = []\n",
    "    \n",
    "    for v in v_g:\n",
    "        states[v] = \"INITIAL\"\n",
    "        \n",
    "    # O conjunto maximal pode mudar dependendo da escolha do primeiro elemento\n",
    "    index_in_v = v_g.index(in_v)\n",
    "    v_g[0], v_g[index_in_v] = v_g[index_in_v], v_g[0]\n",
    "    \n",
    "    for v in v_g:\n",
    "        if states[v] == \"INITIAL\":\n",
    "            states[v] = \"IS\"\n",
    "            ind_set.append(v)\n",
    "\n",
    "            for u in graph[v]:\n",
    "                if states[u] == \"INITIAL\":\n",
    "                    states[u] = \"~IS\"\n",
    "                    nind_set.append(u)\n",
    "                    \n",
    "    return ind_set"
   ]
  },
  {
   "cell_type": "code",
   "execution_count": 3,
   "id": "576f346e",
   "metadata": {},
   "outputs": [],
   "source": [
    "def find_max_independent_set(graph):\n",
    "    maximal_ind_set = []\n",
    "    \n",
    "    for v in graph.keys():\n",
    "        maximal_loop = find_maximal_independent_set(graph, v)\n",
    "        \n",
    "        if len(maximal_loop) > len(maximal_ind_set):\n",
    "            maximal_ind_set = maximal_loop\n",
    "    \n",
    "    return maximal_ind_set"
   ]
  },
  {
   "cell_type": "code",
   "execution_count": 4,
   "id": "caaf3714",
   "metadata": {},
   "outputs": [],
   "source": [
    "def find_min_cover_vertex(graph):\n",
    "    max_ind_set = find_max_independent_set(graph)\n",
    "    \n",
    "    return [v for v in graph.keys() if v not in max_ind_set]"
   ]
  },
  {
   "cell_type": "code",
   "execution_count": 5,
   "id": "c99598c0",
   "metadata": {},
   "outputs": [],
   "source": [
    "exemplo1 = {\n",
    "    \"A\": [\"B\", \"C\"],\n",
    "    \"B\": [\"A\", \"C\", \"D\", \"E\", \"F\"],\n",
    "    \"C\": [\"A\", \"B\"],\n",
    "    \"D\": [\"B\"],\n",
    "    \"E\": [\"B\"],\n",
    "    \"F\": [\"B\"]\n",
    "}"
   ]
  },
  {
   "cell_type": "code",
   "execution_count": 6,
   "id": "79bca094",
   "metadata": {},
   "outputs": [],
   "source": [
    "exemplo2 = {\n",
    "    \"1\": [\"6\", \"7\", \"9\"],\n",
    "    \"2\": [\"6\", \"7\", \"9\", \"10\"],\n",
    "    \"3\": [\"8\"],\n",
    "    \"4\": [\"8\"],\n",
    "    \"5\": [\"7\", \"8\", \"9\", \"10\"],\n",
    "    \"6\": [\"1\", \"2\"],\n",
    "    \"7\": [\"1\", \"2\", \"5\"],\n",
    "    \"8\": [\"3\", \"4\", \"5\"],\n",
    "    \"9\": [\"1\", \"2\", \"5\"],\n",
    "    \"10\": [\"2\", \"5\"]\n",
    "}"
   ]
  },
  {
   "cell_type": "code",
   "execution_count": 7,
   "id": "4e24cc9d",
   "metadata": {},
   "outputs": [],
   "source": [
    "exemplo3 = {\n",
    "    \"1\": [\"3\", \"4\", \"5\", \"6\"],\n",
    "    \"2\": [\"3\"],\n",
    "    \"3\": [\"1\", \"2\"],\n",
    "    \"4\": [\"1\"],\n",
    "    \"5\": [\"1\"],\n",
    "    \"6\": [\"1\"]\n",
    "}"
   ]
  },
  {
   "cell_type": "code",
   "execution_count": 8,
   "id": "23bd1212",
   "metadata": {},
   "outputs": [],
   "source": [
    "exemplo4 = {\n",
    "    \"A\": [\"B\"],\n",
    "    \"B\": [\"A\", \"C\", \"D\"],\n",
    "    \"C\": [\"B\", \"E\", \"F\"],\n",
    "    \"D\": [\"B\", \"E\"],\n",
    "    \"E\": [\"C\", \"D\"],\n",
    "    \"F\": [\"C\"]\n",
    "}"
   ]
  },
  {
   "cell_type": "code",
   "execution_count": 9,
   "id": "cc03ea34",
   "metadata": {},
   "outputs": [
    {
     "data": {
      "text/plain": [
       "['B', 'E', 'F']"
      ]
     },
     "execution_count": 9,
     "metadata": {},
     "output_type": "execute_result"
    }
   ],
   "source": [
    "find_min_cover_vertex(exemplo4)"
   ]
  },
  {
   "cell_type": "code",
   "execution_count": null,
   "id": "8260ff97",
   "metadata": {},
   "outputs": [],
   "source": []
  }
 ],
 "metadata": {
  "kernelspec": {
   "display_name": "Python 3",
   "language": "python",
   "name": "python3"
  },
  "language_info": {
   "codemirror_mode": {
    "name": "ipython",
    "version": 3
   },
   "file_extension": ".py",
   "mimetype": "text/x-python",
   "name": "python",
   "nbconvert_exporter": "python",
   "pygments_lexer": "ipython3",
   "version": "3.8.8"
  }
 },
 "nbformat": 4,
 "nbformat_minor": 5
}
