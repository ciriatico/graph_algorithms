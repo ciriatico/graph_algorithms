{
 "cells": [
  {
   "cell_type": "code",
   "execution_count": 1,
   "id": "8230bbf6",
   "metadata": {},
   "outputs": [],
   "source": [
    "# Pseudocódigo usado: https://media.springernature.com/original/springer-static/image/prt%3A978-1-4939-2864-4%2F8/MediaObjects/978-1-4939-2864-4_8_Part_Fig1-180_HTML.gif"
   ]
  },
  {
   "cell_type": "code",
   "execution_count": 2,
   "id": "065f8b24",
   "metadata": {},
   "outputs": [],
   "source": [
    "def worst_r_match(matchings, hospitals, h):\n",
    "    \n",
    "    for r in hospitals[h]:\n",
    "        if [r, h] in matchings:\n",
    "            w_mat = [r, h]\n",
    "            \n",
    "    return w_mat[0]"
   ]
  },
  {
   "cell_type": "code",
   "execution_count": 3,
   "id": "5d2daa2b",
   "metadata": {},
   "outputs": [],
   "source": [
    "def gale_shapley_hospitals(residents, hospitals, limit_inscriptions):\n",
    "    matchings = []\n",
    "    r_assigneds = []\n",
    "    \n",
    "    # A condição para o laço é ter residente não escalado e com lista de desejos ainda não vazia\n",
    "    r_notassign_nonempty = [r for r in residents.keys() if (r not in r_assigneds) and (len(residents[r]) != 0)]\n",
    "    \n",
    "    while len(r_notassign_nonempty) != 0:\n",
    "        r = r_notassign_nonempty[0]\n",
    "        print(\"Fazendo com r:\", r)\n",
    "\n",
    "        # Primeiro faz as inscrições prioritárias e depois remove os residentes menos preferidos pelos hospitais\n",
    "        h = residents[r][0]\n",
    "        matchings.append([r, h])\n",
    "        r_assigneds.append(r)\n",
    "        \n",
    "        print(\"Prioritário:\", r, h)\n",
    "\n",
    "        if len([mat for mat in matchings if mat[1] == h]) > limit_inscriptions:\n",
    "            # Se o hospital tem mais inscrições, remover a inscrição do candidato menos atraente para o hospital\n",
    "            rw = worst_r_match(matchings, hospitals, h)\n",
    "            matchings.pop(matchings.index([rw, h]))\n",
    "            r_assigneds.pop(r_assigneds.index(rw))\n",
    "            \n",
    "            print(\"Hospital cheio, removendo a menos atraente:\", rw)\n",
    "\n",
    "        if len([mat for mat in matchings if mat[1] == h]) == limit_inscriptions:\n",
    "            # Se o hospital já alcançou seu limite de inscrições, remover os pares não possíveis, desnecessários ao laço\n",
    "            rw = worst_r_match(matchings, hospitals, h)\n",
    "            \n",
    "            rw_ones = hospitals[h][hospitals[h].index(rw)+1:]\n",
    "            print(\"Hospital cheio também, removendo as impossíveis:\", rw_ones)\n",
    "            if len(rw_ones) > 0:\n",
    "                for rw_one in rw_ones:\n",
    "                    if h in residents[rw_one]:\n",
    "                        residents[rw_one].pop(residents[rw_one].index(h))\n",
    "                        hospitals[h].pop(hospitals[h].index(rw_one))\n",
    "\n",
    "        r_notassign_nonempty = [r for r in residents.keys() if (r not in r_assigneds) and (len(residents[r]) != 0)]\n",
    "        print()\n",
    "        \n",
    "    matchings.sort()\n",
    "    \n",
    "    return matchings"
   ]
  },
  {
   "cell_type": "code",
   "execution_count": 4,
   "id": "24b8c784",
   "metadata": {},
   "outputs": [],
   "source": [
    "residents = {\n",
    "    \"r1\": [\"h2\", \"h1\"],\n",
    "    \"r2\": [\"h1\", \"h2\"],\n",
    "    \"r3\": [\"h1\", \"h3\"],\n",
    "    \"r4\": [\"h2\", \"h3\"],\n",
    "    \"r5\": [\"h2\", \"h1\"],\n",
    "    \"r6\": [\"h1\", \"h2\"]\n",
    "}\n",
    "\n",
    "hospitals = {\n",
    "    \"h1\": [\"r1\", \"r3\", \"r2\", \"r5\", \"r6\"],\n",
    "    \"h2\": [\"r2\", \"r6\", \"r1\", \"r4\", \"r5\"],\n",
    "    \"h3\": [\"r4\", \"r3\"]\n",
    "}"
   ]
  },
  {
   "cell_type": "code",
   "execution_count": 5,
   "id": "3aeb436d",
   "metadata": {},
   "outputs": [
    {
     "name": "stdout",
     "output_type": "stream",
     "text": [
      "Fazendo com r: r1\n",
      "Prioritário: r1 h2\n",
      "\n",
      "Fazendo com r: r2\n",
      "Prioritário: r2 h1\n",
      "\n",
      "Fazendo com r: r3\n",
      "Prioritário: r3 h1\n",
      "Hospital cheio também, removendo as impossíveis: ['r5', 'r6']\n",
      "\n",
      "Fazendo com r: r4\n",
      "Prioritário: r4 h2\n",
      "Hospital cheio também, removendo as impossíveis: ['r5']\n",
      "\n",
      "Fazendo com r: r6\n",
      "Prioritário: r6 h2\n",
      "Hospital cheio, removendo a menos atraente: r4\n",
      "Hospital cheio também, removendo as impossíveis: ['r4']\n",
      "\n",
      "Fazendo com r: r4\n",
      "Prioritário: r4 h3\n",
      "\n"
     ]
    },
    {
     "data": {
      "text/plain": [
       "[['r1', 'h2'], ['r2', 'h1'], ['r3', 'h1'], ['r4', 'h3'], ['r6', 'h2']]"
      ]
     },
     "execution_count": 5,
     "metadata": {},
     "output_type": "execute_result"
    }
   ],
   "source": [
    "gale_shapley_hospitals(residents, hospitals, 2)"
   ]
  },
  {
   "cell_type": "code",
   "execution_count": null,
   "id": "b831592e",
   "metadata": {},
   "outputs": [],
   "source": []
  }
 ],
 "metadata": {
  "kernelspec": {
   "display_name": "Python 3",
   "language": "python",
   "name": "python3"
  },
  "language_info": {
   "codemirror_mode": {
    "name": "ipython",
    "version": 3
   },
   "file_extension": ".py",
   "mimetype": "text/x-python",
   "name": "python",
   "nbconvert_exporter": "python",
   "pygments_lexer": "ipython3",
   "version": "3.8.8"
  }
 },
 "nbformat": 4,
 "nbformat_minor": 5
}
