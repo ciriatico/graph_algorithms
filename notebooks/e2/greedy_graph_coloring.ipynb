{
 "cells": [
  {
   "cell_type": "code",
   "execution_count": 1,
   "id": "a60758b5",
   "metadata": {},
   "outputs": [],
   "source": [
    "def free_colors(v, u_colors, col_graph):\n",
    "    n_colors = []\n",
    "    \n",
    "    for n in col_graph[v][\"neighbors\"]:\n",
    "        c_n = col_graph[n][\"color\"]\n",
    "        \n",
    "        if c_n != 0:\n",
    "            n_colors.append(c_n)\n",
    "    \n",
    "    f_colors = [c for c in u_colors if c not in n_colors]\n",
    "    \n",
    "    return f_colors"
   ]
  },
  {
   "cell_type": "code",
   "execution_count": 2,
   "id": "3956b6fa",
   "metadata": {},
   "outputs": [],
   "source": [
    "def graph_coloring_seq(graph, seq):\n",
    "    # Cor igual a 0 representa vértice ainda não colorido\n",
    "    col_graph = {v: {\"neighbors\": graph[v], \"color\": 0} for v in graph.keys()}\n",
    "    \n",
    "    # Começando com a cor 1\n",
    "    used_colors = [1]\n",
    "    \n",
    "    for v in seq:\n",
    "        print(\"Fazendo v:\", v)\n",
    "        f_colors = free_colors(v, used_colors, col_graph)\n",
    "\n",
    "        if len(f_colors) != 0:\n",
    "            print(\"Pode usar a cor:\", min(f_colors))\n",
    "            col_graph[v][\"color\"] = min(f_colors)\n",
    "\n",
    "        else:\n",
    "            print(\"Tem que criar uma nova:\", max(used_colors)+1)\n",
    "            new_color = max(used_colors) + 1\n",
    "\n",
    "            col_graph[v][\"color\"] = new_color\n",
    "            used_colors.append(new_color)\n",
    "        \n",
    "        print()\n",
    "    \n",
    "    return {v: col_graph[v][\"color\"] for v in seq}"
   ]
  },
  {
   "cell_type": "code",
   "execution_count": 3,
   "id": "f9239e9e",
   "metadata": {},
   "outputs": [],
   "source": [
    "exemplo = {\n",
    "    \"S\": {\"I\", \"H\", \"C\", \"L\"},\n",
    "    \"I\": {\"S\", \"L\", \"M\"},\n",
    "    \"H\": {\"S\", \"L\", \"G\", \"A\"},\n",
    "    \"L\": {\"G\", \"P\", \"H\", \"S\", \"I\", \"M\"},\n",
    "    \"P\": {\"G\", \"L\"},\n",
    "    \"G\": {\"A\", \"P\", \"H\", \"L\"},\n",
    "    \"C\": {\"S\", \"A\"},\n",
    "    \"A\": {\"C\", \"H\", \"G\", \"M\"},\n",
    "    \"M\": {\"I\", \"L\", \"G\", \"A\"}\n",
    "}"
   ]
  },
  {
   "cell_type": "code",
   "execution_count": 4,
   "id": "c46aee5a",
   "metadata": {},
   "outputs": [],
   "source": [
    "seq_ex = [\"G\", \"L\", \"H\", \"P\", \"M\", \"A\", \"I\", \"S\", \"C\"]"
   ]
  },
  {
   "cell_type": "code",
   "execution_count": 5,
   "id": "75c01876",
   "metadata": {},
   "outputs": [
    {
     "name": "stdout",
     "output_type": "stream",
     "text": [
      "Fazendo v: G\n",
      "Pode usar a cor: 1\n",
      "\n",
      "Fazendo v: L\n",
      "Tem que criar uma nova: 2\n",
      "\n",
      "Fazendo v: H\n",
      "Tem que criar uma nova: 3\n",
      "\n",
      "Fazendo v: P\n",
      "Pode usar a cor: 3\n",
      "\n",
      "Fazendo v: M\n",
      "Pode usar a cor: 3\n",
      "\n",
      "Fazendo v: A\n",
      "Pode usar a cor: 2\n",
      "\n",
      "Fazendo v: I\n",
      "Pode usar a cor: 1\n",
      "\n",
      "Fazendo v: S\n",
      "Tem que criar uma nova: 4\n",
      "\n",
      "Fazendo v: C\n",
      "Pode usar a cor: 1\n",
      "\n"
     ]
    },
    {
     "data": {
      "text/plain": [
       "{'G': 1, 'L': 2, 'H': 3, 'P': 3, 'M': 3, 'A': 2, 'I': 1, 'S': 4, 'C': 1}"
      ]
     },
     "execution_count": 5,
     "metadata": {},
     "output_type": "execute_result"
    }
   ],
   "source": [
    "graph_coloring_seq(exemplo, seq_ex)"
   ]
  },
  {
   "cell_type": "code",
   "execution_count": null,
   "id": "5d96b938",
   "metadata": {},
   "outputs": [],
   "source": []
  }
 ],
 "metadata": {
  "kernelspec": {
   "display_name": "Python 3",
   "language": "python",
   "name": "python3"
  },
  "language_info": {
   "codemirror_mode": {
    "name": "ipython",
    "version": 3
   },
   "file_extension": ".py",
   "mimetype": "text/x-python",
   "name": "python",
   "nbconvert_exporter": "python",
   "pygments_lexer": "ipython3",
   "version": "3.8.8"
  }
 },
 "nbformat": 4,
 "nbformat_minor": 5
}
