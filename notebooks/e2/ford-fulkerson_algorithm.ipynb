{
 "cells": [
  {
   "cell_type": "code",
   "execution_count": 1,
   "id": "dea3f309",
   "metadata": {},
   "outputs": [],
   "source": [
    "def bfs(graph, s):\n",
    "    path_found = []\n",
    "    couples_found = []\n",
    "    \n",
    "    visited = {k: False for k in graph.keys()}\n",
    "    queue = []\n",
    "    \n",
    "    queue.append(s)\n",
    "    visited[s] = True\n",
    "    \n",
    "    while queue:\n",
    "        s = queue.pop(0)\n",
    "        path_found.append(s)\n",
    "\n",
    "        for i in graph[s]:\n",
    "            if visited[i] == False:\n",
    "                queue.append(i)\n",
    "                visited[i] = True\n",
    "                couples_found.append([s, i])\n",
    "    \n",
    "    return path_found, couples_found"
   ]
  },
  {
   "cell_type": "code",
   "execution_count": 2,
   "id": "2c1b19fc",
   "metadata": {},
   "outputs": [],
   "source": [
    "def start_flow(flow_network, base_value=0):\n",
    "    flow = {k: [] for k in flow_network.keys()}\n",
    "    \n",
    "    for k in flow_network.keys():\n",
    "        for p in flow_network[k]:\n",
    "            flow[k].append([p[0], base_value, p[1]])\n",
    "            \n",
    "    return flow"
   ]
  },
  {
   "cell_type": "code",
   "execution_count": 3,
   "id": "0a5d583b",
   "metadata": {},
   "outputs": [],
   "source": [
    "def residual_network(flow):\n",
    "    residual_graph = {n:[] for n in flow.keys()}\n",
    "\n",
    "    for n in flow.keys():\n",
    "        nn = flow[n].copy()\n",
    "\n",
    "        for node in [v[0] for v in nn]:\n",
    "            p_node = [p for p in flow[n] if p[0] == node]\n",
    "            \n",
    "            act_use = p_node[0][1]\n",
    "            act_cap = p_node[0][2]\n",
    "            f_dir = act_cap-act_use\n",
    "            \n",
    "            if f_dir != 0:\n",
    "                residual_graph[n].append([node, f_dir])\n",
    "            if act_use != 0:\n",
    "                residual_graph[node].append([n, act_use])\n",
    "            \n",
    "    return residual_graph"
   ]
  },
  {
   "cell_type": "code",
   "execution_count": 4,
   "id": "f595b105",
   "metadata": {},
   "outputs": [],
   "source": [
    "def min_cf_g(couples_path, residual_network):\n",
    "    min_cf = None\n",
    "\n",
    "    for c in couples_path:\n",
    "        act_cf = [p for p in residual_network[c[0]] if p[0] == c[1]][0][1]\n",
    "\n",
    "        if min_cf == None:\n",
    "            min_cf = act_cf\n",
    "        elif min_cf > act_cf:\n",
    "            min_cf = act_cf\n",
    "\n",
    "    return min_cf"
   ]
  },
  {
   "cell_type": "code",
   "execution_count": 5,
   "id": "f68483fe",
   "metadata": {},
   "outputs": [],
   "source": [
    "def update_f_value_sum(flow, u, v, f_value):\n",
    "    [p for p in flow[u] if p[0] == v][0][1] = [p for p in flow[u] if p[0] == v][0][1] + f_value\n",
    "    \n",
    "    return flow"
   ]
  },
  {
   "cell_type": "code",
   "execution_count": 6,
   "id": "20da7224",
   "metadata": {},
   "outputs": [],
   "source": [
    "def path_to_t_bfs(couples, t=\"T\"):\n",
    "    fpath_to_t = []\n",
    "    act_coup = [p for p in couples if t in p]\n",
    "    if len(act_coup) == 0:\n",
    "        return False\n",
    "    act_coup = act_coup[0]\n",
    "    fpath_to_t.insert(0, act_coup)\n",
    "    \n",
    "    match_par = [c for c in couples if c[1] == act_coup[0]]\n",
    "    \n",
    "    if len(match_par) > 1:\n",
    "        assert False, \"Caso não previsto, filho com mais de 1 pai\"\n",
    "\n",
    "    while len(match_par) != 0:\n",
    "        act_coup = match_par[0]\n",
    "        fpath_to_t.insert(0, act_coup)\n",
    "        \n",
    "        match_par = [c for c in couples if c[1] == act_coup[0]]\n",
    "        if len(match_par) > 1:\n",
    "            assert False, \"Caso não previsto, filho com mais de 1 pai\"\n",
    "    \n",
    "    return fpath_to_t"
   ]
  },
  {
   "cell_type": "code",
   "execution_count": 7,
   "id": "626c3f42",
   "metadata": {},
   "outputs": [],
   "source": [
    "def ford_fulkerson_algorithm(flow_network):\n",
    "    flow = start_flow(flow_network)\n",
    "    res_network = residual_network(flow)\n",
    "        \n",
    "    res_network_bfs = dict()\n",
    "\n",
    "    for k in res_network.keys():\n",
    "        res_network_bfs[k] = [p[0] for p in res_network[k]]\n",
    "        \n",
    "    path_to_t, couples_to_t = bfs(res_network_bfs, \"S\")\n",
    "    couples_to_t = path_to_t_bfs(couples_to_t)\n",
    "    \n",
    "    print(\"f:\", flow)\n",
    "    print(\"r:\", res_network)\n",
    "    print(\"p:\", couples_to_t)\n",
    "    print()\n",
    "    \n",
    "    while couples_to_t != False:\n",
    "        min_cf_l = min_cf_g(couples_to_t, res_network)\n",
    "\n",
    "        for p in couples_to_t:\n",
    "            u = p[0]\n",
    "            v = p[1]\n",
    "\n",
    "            exist_p = [n for n in flow[u] if n[0] == v]\n",
    "\n",
    "            if len(exist_p) > 0:\n",
    "                flow = update_f_value_sum(flow, u, v, min_cf_l)\n",
    "            else:\n",
    "                flow = update_f_value_sum(flow, v, u, -min_cf_l)\n",
    "\n",
    "        res_network = residual_network(flow)\n",
    "\n",
    "        res_network_bfs = dict()\n",
    "\n",
    "        for k in res_network.keys():\n",
    "            res_network_bfs[k] = [p[0] for p in res_network[k]]\n",
    "\n",
    "        path_to_t, couples_to_t = bfs(res_network_bfs, \"S\")\n",
    "        couples_to_t = path_to_t_bfs(couples_to_t)\n",
    "        \n",
    "        print(\"f:\", flow)\n",
    "        print(\"r:\", res_network)\n",
    "        print(\"p:\", couples_to_t)\n",
    "        print()\n",
    "    \n",
    "    return flow"
   ]
  },
  {
   "cell_type": "code",
   "execution_count": 8,
   "id": "461a7041",
   "metadata": {},
   "outputs": [],
   "source": [
    "flow_network_p2 = {\n",
    "    \"S\": [[\"A\", 20], [\"B\", 30], [\"C\", 20]],\n",
    "    \"A\": [[\"D\", 20], [\"F\", 5]],\n",
    "    \"B\": [[\"A\", 5], [\"E\", 20]],\n",
    "    \"C\": [[\"B\", 5], [\"F\", 20]],\n",
    "    \"D\": [[\"G\", 20], [\"I\", 20]],\n",
    "    \"E\": [[\"A\", 5], [\"D\", 5], [\"F\", 5], [\"G\", 5], [\"H\", 20]],\n",
    "    \"F\": [[\"B\", 10], [\"H\", 20], [\"I\", 10]],\n",
    "    \"G\": [[\"H\", 5], [\"T\", 20]],\n",
    "    \"H\": [[\"I\", 5], [\"T\", 30]],\n",
    "    \"I\": [[\"T\", 25]],\n",
    "    \"T\": []\n",
    "}"
   ]
  },
  {
   "cell_type": "code",
   "execution_count": 9,
   "id": "ed9a1f19",
   "metadata": {},
   "outputs": [
    {
     "name": "stdout",
     "output_type": "stream",
     "text": [
      "f: {'S': [['A', 0, 20], ['B', 0, 30], ['C', 0, 20]], 'A': [['D', 0, 20], ['F', 0, 5]], 'B': [['A', 0, 5], ['E', 0, 20]], 'C': [['B', 0, 5], ['F', 0, 20]], 'D': [['G', 0, 20], ['I', 0, 20]], 'E': [['A', 0, 5], ['D', 0, 5], ['F', 0, 5], ['G', 0, 5], ['H', 0, 20]], 'F': [['B', 0, 10], ['H', 0, 20], ['I', 0, 10]], 'G': [['H', 0, 5], ['T', 0, 20]], 'H': [['I', 0, 5], ['T', 0, 30]], 'I': [['T', 0, 25]], 'T': []}\n",
      "r: {'S': [['A', 20], ['B', 30], ['C', 20]], 'A': [['D', 20], ['F', 5]], 'B': [['A', 5], ['E', 20]], 'C': [['B', 5], ['F', 20]], 'D': [['G', 20], ['I', 20]], 'E': [['A', 5], ['D', 5], ['F', 5], ['G', 5], ['H', 20]], 'F': [['B', 10], ['H', 20], ['I', 10]], 'G': [['H', 5], ['T', 20]], 'H': [['I', 5], ['T', 30]], 'I': [['T', 25]], 'T': []}\n",
      "p: [['S', 'A'], ['A', 'D'], ['D', 'G'], ['G', 'T']]\n",
      "\n",
      "f: {'S': [['A', 20, 20], ['B', 0, 30], ['C', 0, 20]], 'A': [['D', 20, 20], ['F', 0, 5]], 'B': [['A', 0, 5], ['E', 0, 20]], 'C': [['B', 0, 5], ['F', 0, 20]], 'D': [['G', 20, 20], ['I', 0, 20]], 'E': [['A', 0, 5], ['D', 0, 5], ['F', 0, 5], ['G', 0, 5], ['H', 0, 20]], 'F': [['B', 0, 10], ['H', 0, 20], ['I', 0, 10]], 'G': [['H', 0, 5], ['T', 20, 20]], 'H': [['I', 0, 5], ['T', 0, 30]], 'I': [['T', 0, 25]], 'T': []}\n",
      "r: {'S': [['B', 30], ['C', 20]], 'A': [['S', 20], ['F', 5]], 'B': [['A', 5], ['E', 20]], 'C': [['B', 5], ['F', 20]], 'D': [['A', 20], ['I', 20]], 'E': [['A', 5], ['D', 5], ['F', 5], ['G', 5], ['H', 20]], 'F': [['B', 10], ['H', 20], ['I', 10]], 'G': [['D', 20], ['H', 5]], 'H': [['I', 5], ['T', 30]], 'I': [['T', 25]], 'T': [['G', 20]]}\n",
      "p: [['S', 'B'], ['B', 'E'], ['E', 'H'], ['H', 'T']]\n",
      "\n",
      "f: {'S': [['A', 20, 20], ['B', 20, 30], ['C', 0, 20]], 'A': [['D', 20, 20], ['F', 0, 5]], 'B': [['A', 0, 5], ['E', 20, 20]], 'C': [['B', 0, 5], ['F', 0, 20]], 'D': [['G', 20, 20], ['I', 0, 20]], 'E': [['A', 0, 5], ['D', 0, 5], ['F', 0, 5], ['G', 0, 5], ['H', 20, 20]], 'F': [['B', 0, 10], ['H', 0, 20], ['I', 0, 10]], 'G': [['H', 0, 5], ['T', 20, 20]], 'H': [['I', 0, 5], ['T', 20, 30]], 'I': [['T', 0, 25]], 'T': []}\n",
      "r: {'S': [['B', 10], ['C', 20]], 'A': [['S', 20], ['F', 5]], 'B': [['S', 20], ['A', 5]], 'C': [['B', 5], ['F', 20]], 'D': [['A', 20], ['I', 20]], 'E': [['B', 20], ['A', 5], ['D', 5], ['F', 5], ['G', 5]], 'F': [['B', 10], ['H', 20], ['I', 10]], 'G': [['D', 20], ['H', 5]], 'H': [['E', 20], ['I', 5], ['T', 10]], 'I': [['T', 25]], 'T': [['G', 20], ['H', 20]]}\n",
      "p: [['S', 'C'], ['C', 'F'], ['F', 'H'], ['H', 'T']]\n",
      "\n",
      "f: {'S': [['A', 20, 20], ['B', 20, 30], ['C', 10, 20]], 'A': [['D', 20, 20], ['F', 0, 5]], 'B': [['A', 0, 5], ['E', 20, 20]], 'C': [['B', 0, 5], ['F', 10, 20]], 'D': [['G', 20, 20], ['I', 0, 20]], 'E': [['A', 0, 5], ['D', 0, 5], ['F', 0, 5], ['G', 0, 5], ['H', 20, 20]], 'F': [['B', 0, 10], ['H', 10, 20], ['I', 0, 10]], 'G': [['H', 0, 5], ['T', 20, 20]], 'H': [['I', 0, 5], ['T', 30, 30]], 'I': [['T', 0, 25]], 'T': []}\n",
      "r: {'S': [['B', 10], ['C', 10]], 'A': [['S', 20], ['F', 5]], 'B': [['S', 20], ['A', 5]], 'C': [['S', 10], ['B', 5], ['F', 10]], 'D': [['A', 20], ['I', 20]], 'E': [['B', 20], ['A', 5], ['D', 5], ['F', 5], ['G', 5]], 'F': [['C', 10], ['B', 10], ['H', 10], ['I', 10]], 'G': [['D', 20], ['H', 5]], 'H': [['E', 20], ['F', 10], ['I', 5]], 'I': [['T', 25]], 'T': [['G', 20], ['H', 30]]}\n",
      "p: [['S', 'C'], ['C', 'F'], ['F', 'I'], ['I', 'T']]\n",
      "\n",
      "f: {'S': [['A', 20, 20], ['B', 20, 30], ['C', 20, 20]], 'A': [['D', 20, 20], ['F', 0, 5]], 'B': [['A', 0, 5], ['E', 20, 20]], 'C': [['B', 0, 5], ['F', 20, 20]], 'D': [['G', 20, 20], ['I', 0, 20]], 'E': [['A', 0, 5], ['D', 0, 5], ['F', 0, 5], ['G', 0, 5], ['H', 20, 20]], 'F': [['B', 0, 10], ['H', 10, 20], ['I', 10, 10]], 'G': [['H', 0, 5], ['T', 20, 20]], 'H': [['I', 0, 5], ['T', 30, 30]], 'I': [['T', 10, 25]], 'T': []}\n",
      "r: {'S': [['B', 10]], 'A': [['S', 20], ['F', 5]], 'B': [['S', 20], ['A', 5]], 'C': [['S', 20], ['B', 5]], 'D': [['A', 20], ['I', 20]], 'E': [['B', 20], ['A', 5], ['D', 5], ['F', 5], ['G', 5]], 'F': [['C', 20], ['B', 10], ['H', 10]], 'G': [['D', 20], ['H', 5]], 'H': [['E', 20], ['F', 10], ['I', 5]], 'I': [['F', 10], ['T', 15]], 'T': [['G', 20], ['H', 30], ['I', 10]]}\n",
      "p: [['S', 'B'], ['B', 'A'], ['A', 'F'], ['F', 'H'], ['H', 'I'], ['I', 'T']]\n",
      "\n",
      "f: {'S': [['A', 20, 20], ['B', 25, 30], ['C', 20, 20]], 'A': [['D', 20, 20], ['F', 5, 5]], 'B': [['A', 5, 5], ['E', 20, 20]], 'C': [['B', 0, 5], ['F', 20, 20]], 'D': [['G', 20, 20], ['I', 0, 20]], 'E': [['A', 0, 5], ['D', 0, 5], ['F', 0, 5], ['G', 0, 5], ['H', 20, 20]], 'F': [['B', 0, 10], ['H', 15, 20], ['I', 10, 10]], 'G': [['H', 0, 5], ['T', 20, 20]], 'H': [['I', 5, 5], ['T', 30, 30]], 'I': [['T', 15, 25]], 'T': []}\n",
      "r: {'S': [['B', 5]], 'A': [['S', 20], ['B', 5]], 'B': [['S', 25]], 'C': [['S', 20], ['B', 5]], 'D': [['A', 20], ['I', 20]], 'E': [['B', 20], ['A', 5], ['D', 5], ['F', 5], ['G', 5]], 'F': [['A', 5], ['C', 20], ['B', 10], ['H', 5]], 'G': [['D', 20], ['H', 5]], 'H': [['E', 20], ['F', 15]], 'I': [['F', 10], ['H', 5], ['T', 10]], 'T': [['G', 20], ['H', 30], ['I', 15]]}\n",
      "p: False\n",
      "\n"
     ]
    },
    {
     "data": {
      "text/plain": [
       "{'S': [['A', 20, 20], ['B', 25, 30], ['C', 20, 20]],\n",
       " 'A': [['D', 20, 20], ['F', 5, 5]],\n",
       " 'B': [['A', 5, 5], ['E', 20, 20]],\n",
       " 'C': [['B', 0, 5], ['F', 20, 20]],\n",
       " 'D': [['G', 20, 20], ['I', 0, 20]],\n",
       " 'E': [['A', 0, 5], ['D', 0, 5], ['F', 0, 5], ['G', 0, 5], ['H', 20, 20]],\n",
       " 'F': [['B', 0, 10], ['H', 15, 20], ['I', 10, 10]],\n",
       " 'G': [['H', 0, 5], ['T', 20, 20]],\n",
       " 'H': [['I', 5, 5], ['T', 30, 30]],\n",
       " 'I': [['T', 15, 25]],\n",
       " 'T': []}"
      ]
     },
     "execution_count": 9,
     "metadata": {},
     "output_type": "execute_result"
    }
   ],
   "source": [
    "ford_fulkerson_algorithm(flow_network_p2)"
   ]
  },
  {
   "cell_type": "code",
   "execution_count": null,
   "id": "3808319e",
   "metadata": {},
   "outputs": [],
   "source": []
  }
 ],
 "metadata": {
  "kernelspec": {
   "display_name": "Python 3",
   "language": "python",
   "name": "python3"
  },
  "language_info": {
   "codemirror_mode": {
    "name": "ipython",
    "version": 3
   },
   "file_extension": ".py",
   "mimetype": "text/x-python",
   "name": "python",
   "nbconvert_exporter": "python",
   "pygments_lexer": "ipython3",
   "version": "3.8.8"
  }
 },
 "nbformat": 4,
 "nbformat_minor": 5
}
