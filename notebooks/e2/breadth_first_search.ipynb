{
 "cells": [
  {
   "cell_type": "code",
   "execution_count": 4,
   "id": "0d4103ec",
   "metadata": {},
   "outputs": [],
   "source": [
    "def bfs(graph, root):\n",
    "    visited = []\n",
    "    queue = []\n",
    "    \n",
    "    visited.append(root)\n",
    "    queue.append(root)\n",
    "    \n",
    "    while len(queue) != 0:\n",
    "        x = queue[0]\n",
    "        queue = queue[1:]\n",
    "\n",
    "        for n in graph[x]:\n",
    "            if (n not in visited):\n",
    "                visited.append(n)\n",
    "                queue.append(n)\n",
    "    \n",
    "    return visited"
   ]
  },
  {
   "cell_type": "code",
   "execution_count": 5,
   "id": "91643deb",
   "metadata": {},
   "outputs": [],
   "source": [
    "# Observe que estou fazendo dict de list e não de set. Isso porque set não é ordenado, e aqui é importante que esteja\n",
    "\n",
    "grafo_exemplo = {\n",
    "    \"A\": [\"E\", \"B\", \"G\"],\n",
    "    \"B\": [\"A\", \"G\", \"F\", \"C\", \"H\"],\n",
    "    \"C\": [\"B\", \"H\", \"D\"],\n",
    "    \"D\": [\"C\", \"E\"],\n",
    "    \"E\": [\"A\", \"D\", \"F\"],\n",
    "    \"F\": [\"E\", \"B\"],\n",
    "    \"G\": [\"A\", \"B\"],\n",
    "    \"H\": [\"B\", \"C\"]\n",
    "}"
   ]
  },
  {
   "cell_type": "code",
   "execution_count": 6,
   "id": "f755d162",
   "metadata": {},
   "outputs": [
    {
     "data": {
      "text/plain": [
       "['A', 'E', 'B', 'G', 'D', 'F', 'C', 'H']"
      ]
     },
     "execution_count": 6,
     "metadata": {},
     "output_type": "execute_result"
    }
   ],
   "source": [
    "bfs(grafo_exemplo, \"A\")"
   ]
  },
  {
   "cell_type": "code",
   "execution_count": null,
   "id": "9ee76097",
   "metadata": {},
   "outputs": [],
   "source": []
  }
 ],
 "metadata": {
  "kernelspec": {
   "display_name": "Python 3",
   "language": "python",
   "name": "python3"
  },
  "language_info": {
   "codemirror_mode": {
    "name": "ipython",
    "version": 3
   },
   "file_extension": ".py",
   "mimetype": "text/x-python",
   "name": "python",
   "nbconvert_exporter": "python",
   "pygments_lexer": "ipython3",
   "version": "3.8.8"
  }
 },
 "nbformat": 4,
 "nbformat_minor": 5
}
