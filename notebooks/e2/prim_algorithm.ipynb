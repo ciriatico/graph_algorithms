{
 "cells": [
  {
   "cell_type": "code",
   "execution_count": 1,
   "id": "384570f1",
   "metadata": {},
   "outputs": [],
   "source": [
    "def is_parent(family, child, sup_parent):\n",
    "    fam = [f for f in family if f[0] == child][0]\n",
    "    \n",
    "    if fam[1] == sup_parent:\n",
    "        return True\n",
    "    \n",
    "    return False"
   ]
  },
  {
   "cell_type": "code",
   "execution_count": 2,
   "id": "bb2a761c",
   "metadata": {},
   "outputs": [],
   "source": [
    "def dfs_with_parent_and_cycle(visited, edges, cycles, graph, node, parent):\n",
    "    if node in visited:\n",
    "        if not is_parent(edges, parent, node):\n",
    "            cycles.append([parent, node])\n",
    "    \n",
    "    if node not in visited:\n",
    "        visited.append(node)\n",
    "        edges.append([node, parent])\n",
    "        \n",
    "        for neighbour in graph[node]:\n",
    "            dfs_with_parent_and_cycle(visited, edges, cycles, graph, neighbour, node)\n",
    "            \n",
    "    return edges, cycles"
   ]
  },
  {
   "cell_type": "code",
   "execution_count": 3,
   "id": "42ca459c",
   "metadata": {},
   "outputs": [],
   "source": [
    "def order_edges_directed_graph(graph):\n",
    "    edges = []\n",
    "\n",
    "    for n in graph.keys():\n",
    "        for e in graph[n]:\n",
    "            if n > e[0]:\n",
    "                edge_n = [e[0], n, e[1]]\n",
    "\n",
    "            else:\n",
    "                edge_n = [n, e[0], e[1]]\n",
    "\n",
    "            if edge_n not in edges:\n",
    "                edges.append(edge_n)\n",
    "    \n",
    "    edges_w = [a[2] for a in edges]\n",
    "    return [x for _,x in sorted(zip(edges_w, edges))]"
   ]
  },
  {
   "cell_type": "code",
   "execution_count": 4,
   "id": "37b8ab9c",
   "metadata": {},
   "outputs": [],
   "source": [
    "def fill_graph_by_edge(graph, edge):\n",
    "    if edge[0] not in graph.keys():\n",
    "        graph[edge[0]] = list()\n",
    "    if edge[1] not in graph.keys():\n",
    "        graph[edge[1]] = list()\n",
    "        \n",
    "    graph[edge[0]].append([edge[1], edge[2]])\n",
    "    graph[edge[1]].append([edge[0], edge[2]])\n",
    "    \n",
    "    return graph"
   ]
  },
  {
   "cell_type": "code",
   "execution_count": 5,
   "id": "39479924",
   "metadata": {},
   "outputs": [],
   "source": [
    "def dir_to_undir_graph(graph):\n",
    "    undir_graph = dict()\n",
    "    \n",
    "    for k in graph.keys():\n",
    "        undir_graph[k] = []\n",
    "        \n",
    "        for e in graph[k]:\n",
    "            undir_graph[k].append(e[0])\n",
    "            \n",
    "    return undir_graph"
   ]
  },
  {
   "cell_type": "code",
   "execution_count": 6,
   "id": "e9cc6c1a",
   "metadata": {},
   "outputs": [],
   "source": [
    "def heaviest_edge_with_n(edges, n):\n",
    "    max_weight = float(\"inf\")\n",
    "    \n",
    "    for e in edges:\n",
    "        if (e[0] == n) or (e[1] == n):\n",
    "            if e[2] < max_weight:\n",
    "                max_weight = e[2]\n",
    "                max_edge = e\n",
    "    \n",
    "    return max_edge"
   ]
  },
  {
   "cell_type": "code",
   "execution_count": 7,
   "id": "108932fd",
   "metadata": {},
   "outputs": [],
   "source": [
    "exemplo_prim1 = {\n",
    "    \"A\": [[\"B\", 7], [\"C\", 9], [\"F\", 8]],\n",
    "    \"B\": [[\"A\", 7], [\"C\", 3], [\"D\", 6]],\n",
    "    \"C\": [[\"A\", 9], [\"B\", 3], [\"E\", 10]],\n",
    "    \"D\": [[\"B\", 6], [\"G\", 9]],\n",
    "    \"E\": [[\"C\", 10], [\"F\", 5], [\"G\", 4]],\n",
    "    \"F\": [[\"A\", 8], [\"E\", 5], [\"G\", 8]],\n",
    "    \"G\": [[\"D\", 9], [\"E\", 4], [\"F\", 8]]\n",
    "}"
   ]
  },
  {
   "cell_type": "code",
   "execution_count": 8,
   "id": "a9b26b9f",
   "metadata": {},
   "outputs": [],
   "source": [
    "exemplo_prim2 = {\n",
    "    \"A\": [[\"B\", 7], [\"D\", 5]],\n",
    "    \"B\": [[\"A\", 7], [\"C\", 8], [\"D\", 9], [\"E\", 7]],\n",
    "    \"C\": [[\"B\", 8], [\"E\", 5]],\n",
    "    \"D\": [[\"A\", 5], [\"B\", 9], [\"E\", 15], [\"F\", 6]],\n",
    "    \"E\": [[\"B\", 7], [\"C\", 5], [\"D\", 15], [\"F\", 8], [\"G\", 9]],\n",
    "    \"F\": [[\"D\", 6], [\"E\", 8], [\"G\", 11]],\n",
    "    \"G\": [[\"E\", 9], [\"F\", 11]]\n",
    "}"
   ]
  },
  {
   "cell_type": "code",
   "execution_count": 9,
   "id": "91cbd56d",
   "metadata": {},
   "outputs": [],
   "source": [
    "ord_edges = order_edges_directed_graph(exemplo_prim2)"
   ]
  },
  {
   "cell_type": "code",
   "execution_count": 10,
   "id": "45f80ccc",
   "metadata": {},
   "outputs": [],
   "source": [
    "min_span_tree = dict()"
   ]
  },
  {
   "cell_type": "code",
   "execution_count": 11,
   "id": "286ebe5b",
   "metadata": {},
   "outputs": [],
   "source": [
    "poss_edges = []\n",
    "imposs_edges = []"
   ]
  },
  {
   "cell_type": "code",
   "execution_count": 12,
   "id": "5030f5b6",
   "metadata": {},
   "outputs": [],
   "source": [
    "for ord_edge in ord_edges:\n",
    "    min_span_tree = fill_graph_by_edge(min_span_tree, ord_edge)\n",
    "    min_span_tree_undir = dir_to_undir_graph(min_span_tree)\n",
    "    family_tree, cycles_tree = dfs_with_parent_and_cycle([], [], [], min_span_tree_undir, list(min_span_tree_undir.keys())[0], \"\")\n",
    "    \n",
    "    if len(cycles_tree) == 0:\n",
    "        poss_edges.append(ord_edge)\n",
    "    if len(cycles_tree) > 1:\n",
    "        imposs_edges.append(ord_edge)\n",
    "        min_span_tree = dict()\n",
    "        \n",
    "        for poss in poss_edges:\n",
    "            min_span_tree = fill_graph_by_edge(min_span_tree, poss)"
   ]
  },
  {
   "cell_type": "code",
   "execution_count": 13,
   "id": "6cb0be61",
   "metadata": {},
   "outputs": [],
   "source": [
    "possible_min_span_orders = order_edges_directed_graph(min_span_tree)"
   ]
  },
  {
   "cell_type": "code",
   "execution_count": 14,
   "id": "386fc2f8",
   "metadata": {},
   "outputs": [],
   "source": [
    "selected_edges = []"
   ]
  },
  {
   "cell_type": "code",
   "execution_count": 15,
   "id": "8fe54cf9",
   "metadata": {},
   "outputs": [],
   "source": [
    "root_n = \"A\""
   ]
  },
  {
   "cell_type": "code",
   "execution_count": 16,
   "id": "e5e3b26e",
   "metadata": {},
   "outputs": [],
   "source": [
    "o_n = heaviest_edge_with_n(possible_min_span_orders, root_n)\n",
    "selected_edges.append(o_n)"
   ]
  },
  {
   "cell_type": "code",
   "execution_count": 17,
   "id": "5e5e6f5b",
   "metadata": {},
   "outputs": [],
   "source": [
    "selected_v = set()"
   ]
  },
  {
   "cell_type": "code",
   "execution_count": 18,
   "id": "26d0477a",
   "metadata": {},
   "outputs": [],
   "source": [
    "selected_v.add(o_n[0])\n",
    "selected_v.add(o_n[1])"
   ]
  },
  {
   "cell_type": "code",
   "execution_count": 19,
   "id": "b0d4daae",
   "metadata": {},
   "outputs": [],
   "source": [
    "while len(selected_v) != len(exemplo_prim2.keys()):\n",
    "    for o in possible_min_span_orders:\n",
    "        if o not in selected_edges:\n",
    "            if (o[0] in selected_v) or (o[1] in selected_v):\n",
    "                o_n = o\n",
    "                selected_v.add(o_n[0])\n",
    "                selected_v.add(o_n[1])\n",
    "                selected_edges.append(o_n)"
   ]
  },
  {
   "cell_type": "code",
   "execution_count": 20,
   "id": "94f6efc4",
   "metadata": {},
   "outputs": [
    {
     "data": {
      "text/plain": [
       "[['A', 'D', 5],\n",
       " ['D', 'F', 6],\n",
       " ['A', 'B', 7],\n",
       " ['B', 'E', 7],\n",
       " ['E', 'G', 9],\n",
       " ['C', 'E', 5]]"
      ]
     },
     "execution_count": 20,
     "metadata": {},
     "output_type": "execute_result"
    }
   ],
   "source": [
    "selected_edges"
   ]
  },
  {
   "cell_type": "code",
   "execution_count": null,
   "id": "efb4e89a",
   "metadata": {},
   "outputs": [],
   "source": []
  }
 ],
 "metadata": {
  "kernelspec": {
   "display_name": "Python 3",
   "language": "python",
   "name": "python3"
  },
  "language_info": {
   "codemirror_mode": {
    "name": "ipython",
    "version": 3
   },
   "file_extension": ".py",
   "mimetype": "text/x-python",
   "name": "python",
   "nbconvert_exporter": "python",
   "pygments_lexer": "ipython3",
   "version": "3.8.8"
  }
 },
 "nbformat": 4,
 "nbformat_minor": 5
}
