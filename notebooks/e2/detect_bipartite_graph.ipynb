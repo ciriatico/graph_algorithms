{
 "cells": [
  {
   "cell_type": "code",
   "execution_count": 88,
   "id": "8d0f5f63",
   "metadata": {},
   "outputs": [],
   "source": [
    "def bipartite_graph(graph, root):\n",
    "    visited = []\n",
    "    queue = []\n",
    "    \n",
    "    s1 = []\n",
    "    s2 = []\n",
    "    \n",
    "    visited.append(root)\n",
    "    queue.append(root)\n",
    "    s1.append(root)\n",
    "    \n",
    "    while len(queue) != 0:\n",
    "        x = queue[0]\n",
    "        queue = queue[1:]\n",
    "\n",
    "        for n in graph[x]:\n",
    "            if (n not in visited):\n",
    "                visited.append(n)\n",
    "                queue.append(n)\n",
    "                \n",
    "                if (x in s1):\n",
    "                    s2.append(n)\n",
    "                else:\n",
    "                    s1.append(n)\n",
    "            \n",
    "            if (n in s1) and (x in s1):\n",
    "                print(\"Grafo dado não é bipartido.\")\n",
    "                return\n",
    "            elif (n in s2) and (x in s2):\n",
    "                print(\"Grafo dado não é bipartido.\")\n",
    "                return\n",
    "    \n",
    "    return s1, s2"
   ]
  },
  {
   "cell_type": "code",
   "execution_count": 89,
   "id": "d4c979a9",
   "metadata": {},
   "outputs": [],
   "source": [
    "grafo_exemplo_bi = {\n",
    "    \"A\": [\"B\", \"F\"],\n",
    "    \"B\": [\"A\", \"G\", \"H\"],\n",
    "    \"C\": [\"D\", \"H\"],\n",
    "    \"D\": [\"C\", \"I\"],\n",
    "    \"E\": [\"F\", \"I\"],\n",
    "    \"F\": [\"A\", \"E\", \"G\"],\n",
    "    \"G\": [\"B\", \"F\"],\n",
    "    \"H\": [\"B\", \"C\", \"I\"],\n",
    "    \"I\": [\"D\", \"E\", \"H\"]\n",
    "}"
   ]
  },
  {
   "cell_type": "code",
   "execution_count": 90,
   "id": "576efba7",
   "metadata": {},
   "outputs": [],
   "source": [
    "grafo_exemplo_nbi = {\n",
    "    \"A\": [\"B\", \"F\"],\n",
    "    \"B\": [\"A\", \"H\"],\n",
    "    \"C\": [\"D\", \"H\"],\n",
    "    \"D\": [\"C\", \"I\"],\n",
    "    \"E\": [\"F\", \"I\"],\n",
    "    \"F\": [\"A\", \"E\", \"G\"],\n",
    "    \"G\": [\"F\", \"H\"],\n",
    "    \"H\": [\"B\", \"C\", \"G\", \"I\"],\n",
    "    \"I\": [\"D\", \"E\", \"H\"]\n",
    "}"
   ]
  },
  {
   "cell_type": "code",
   "execution_count": 91,
   "id": "a3e10a99",
   "metadata": {},
   "outputs": [
    {
     "data": {
      "text/plain": [
       "(['A', 'G', 'H', 'E', 'D'], ['B', 'F', 'C', 'I'])"
      ]
     },
     "execution_count": 91,
     "metadata": {},
     "output_type": "execute_result"
    }
   ],
   "source": [
    "bipartite_graph(grafo_exemplo_bi, \"A\")"
   ]
  },
  {
   "cell_type": "code",
   "execution_count": 92,
   "id": "0918116b",
   "metadata": {},
   "outputs": [
    {
     "name": "stdout",
     "output_type": "stream",
     "text": [
      "Grafo dado não é bipartido.\n"
     ]
    }
   ],
   "source": [
    "bipartite_graph(grafo_exemplo_nbi, \"A\")"
   ]
  },
  {
   "cell_type": "code",
   "execution_count": null,
   "id": "45933641",
   "metadata": {},
   "outputs": [],
   "source": []
  }
 ],
 "metadata": {
  "kernelspec": {
   "display_name": "Python 3",
   "language": "python",
   "name": "python3"
  },
  "language_info": {
   "codemirror_mode": {
    "name": "ipython",
    "version": 3
   },
   "file_extension": ".py",
   "mimetype": "text/x-python",
   "name": "python",
   "nbconvert_exporter": "python",
   "pygments_lexer": "ipython3",
   "version": "3.8.8"
  }
 },
 "nbformat": 4,
 "nbformat_minor": 5
}
