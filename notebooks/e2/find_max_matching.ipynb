{
 "cells": [
  {
   "cell_type": "code",
   "execution_count": 1,
   "id": "f129af2e",
   "metadata": {},
   "outputs": [],
   "source": [
    "def find_maximal_independent_set(graph, in_v):\n",
    "    states = {}\n",
    "    v_g = list(graph.keys())\n",
    "    \n",
    "    # No algoritmo, uso o dict. Mas para facilitar no output, faço append em list e devolvo a lista\n",
    "    ind_set = []\n",
    "    nind_set = []\n",
    "    \n",
    "    for v in v_g:\n",
    "        states[v] = \"INITIAL\"\n",
    "        \n",
    "    # O conjunto maximal pode mudar dependendo da escolha do primeiro elemento\n",
    "    index_in_v = v_g.index(in_v)\n",
    "    v_g[0], v_g[index_in_v] = v_g[index_in_v], v_g[0]\n",
    "    \n",
    "    for v in v_g:\n",
    "        if states[v] == \"INITIAL\":\n",
    "            states[v] = \"IS\"\n",
    "            ind_set.append(v)\n",
    "\n",
    "            for u in graph[v]:\n",
    "                if states[u] == \"INITIAL\":\n",
    "                    states[u] = \"~IS\"\n",
    "                    nind_set.append(u)\n",
    "                    \n",
    "    return ind_set"
   ]
  },
  {
   "cell_type": "code",
   "execution_count": 2,
   "id": "b1ee64ad",
   "metadata": {},
   "outputs": [],
   "source": [
    "def find_max_independent_set(graph):\n",
    "    maximal_ind_set = []\n",
    "    \n",
    "    for v in graph.keys():\n",
    "        maximal_loop = find_maximal_independent_set(graph, v)\n",
    "        \n",
    "        if len(maximal_loop) > len(maximal_ind_set):\n",
    "            maximal_ind_set = maximal_loop\n",
    "    \n",
    "    return maximal_ind_set"
   ]
  },
  {
   "cell_type": "code",
   "execution_count": 3,
   "id": "4ad9ca87",
   "metadata": {},
   "outputs": [],
   "source": [
    "def find_min_cover_vertex(graph):\n",
    "    max_ind_set = find_max_independent_set(graph)\n",
    "    \n",
    "    return [v for v in graph.keys() if v not in max_ind_set]"
   ]
  },
  {
   "cell_type": "code",
   "execution_count": 19,
   "id": "1f88116b",
   "metadata": {},
   "outputs": [],
   "source": [
    "def find_max_matching(graph):\n",
    "    # Aqui, nos beneficiamos da relação entre os vértices da cobertura mínimo e as arestas de emparelhamento\n",
    "    # Isso considerando grafo bipartido\n",
    "    \n",
    "    cov = find_min_cover_vertex(graph)\n",
    "    \n",
    "    edges_match = []\n",
    "    v_match = []\n",
    "\n",
    "    for v in cov:\n",
    "        for u in graph[v]:\n",
    "            if (u not in cov) and (u not in v_match):\n",
    "                edges_match.append([v, u])\n",
    "                v_match.append(u)\n",
    "                break\n",
    "    \n",
    "    return edges_match"
   ]
  },
  {
   "cell_type": "code",
   "execution_count": 20,
   "id": "3e182735",
   "metadata": {},
   "outputs": [],
   "source": [
    "exemplo = {\n",
    "    \"1\": [\"6\", \"7\", \"9\"],\n",
    "    \"2\": [\"6\", \"7\", \"9\", \"10\"],\n",
    "    \"3\": [\"8\"],\n",
    "    \"4\": [\"8\"],\n",
    "    \"5\": [\"7\", \"8\", \"9\", \"10\"],\n",
    "    \"6\": [\"1\", \"2\"],\n",
    "    \"7\": [\"1\", \"2\", \"5\"],\n",
    "    \"8\": [\"3\", \"4\", \"5\"],\n",
    "    \"9\": [\"1\", \"2\", \"5\"],\n",
    "    \"10\": [\"2\", \"5\"]\n",
    "}"
   ]
  },
  {
   "cell_type": "code",
   "execution_count": 21,
   "id": "35924f67",
   "metadata": {},
   "outputs": [
    {
     "data": {
      "text/plain": [
       "[['1', '6'], ['2', '7'], ['5', '9'], ['8', '3']]"
      ]
     },
     "execution_count": 21,
     "metadata": {},
     "output_type": "execute_result"
    }
   ],
   "source": [
    "find_max_matching(exemplo)"
   ]
  },
  {
   "cell_type": "code",
   "execution_count": null,
   "id": "2004e08c",
   "metadata": {},
   "outputs": [],
   "source": []
  }
 ],
 "metadata": {
  "kernelspec": {
   "display_name": "Python 3",
   "language": "python",
   "name": "python3"
  },
  "language_info": {
   "codemirror_mode": {
    "name": "ipython",
    "version": 3
   },
   "file_extension": ".py",
   "mimetype": "text/x-python",
   "name": "python",
   "nbconvert_exporter": "python",
   "pygments_lexer": "ipython3",
   "version": "3.8.8"
  }
 },
 "nbformat": 4,
 "nbformat_minor": 5
}
