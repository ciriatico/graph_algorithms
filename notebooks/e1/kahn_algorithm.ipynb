{
 "cells": [
  {
   "cell_type": "code",
   "execution_count": 1,
   "id": "225c9a40",
   "metadata": {},
   "outputs": [],
   "source": [
    "import random"
   ]
  },
  {
   "cell_type": "code",
   "execution_count": 7,
   "id": "18edcf89",
   "metadata": {},
   "outputs": [],
   "source": [
    "class Algorithm:\n",
    "    \n",
    "    def in_degree(graph, node):\n",
    "        indg = 0\n",
    "\n",
    "        for n in graph.keys():\n",
    "            indg += int(node in graph[n])\n",
    "\n",
    "        return indg\n",
    "    \n",
    "    def indegree_graph(graph):\n",
    "        grafo_graus = {}\n",
    "\n",
    "        for n in graph.keys():\n",
    "            grau_entrada = Algorithm.in_degree(graph, n)\n",
    "\n",
    "            grafo_graus[n] = []\n",
    "            grafo_graus[n].append(grau_entrada)\n",
    "\n",
    "        return grafo_graus\n",
    "    \n",
    "    def nodes_zero_indegree(grafo, ing):\n",
    "        zing = set()\n",
    "\n",
    "        for n in grafo.keys():\n",
    "            if ing[n] == 0:\n",
    "                zing.add(n)\n",
    "\n",
    "        return zing\n",
    "    \n",
    "    def kahn_algorithm(grafo):\n",
    "        in_g = {}\n",
    "        for n in grafo.keys():\n",
    "            in_g[n] = Algorithm.in_degree(grafo, n)\n",
    "\n",
    "        topo_order = []\n",
    "        visited_count = 0\n",
    "        fila_vazia = set()\n",
    "\n",
    "        zerados = Algorithm.nodes_zero_indegree(grafo, in_g)\n",
    "        fila_vazia = fila_vazia.union(zerados.difference(set(topo_order)))\n",
    "\n",
    "        while len(fila_vazia) != 0:\n",
    "            removido = fila_vazia.pop()\n",
    "            topo_order.append(removido)\n",
    "\n",
    "            for n in grafo[removido]:\n",
    "                in_g[n] -= 1\n",
    "\n",
    "            zerados = Algorithm.nodes_zero_indegree(grafo, in_g)\n",
    "            fila_vazia = fila_vazia.union(zerados.difference(set(topo_order)))\n",
    "\n",
    "            visited_count += 1\n",
    "\n",
    "        return topo_order\n",
    "    \n",
    "    def kahn_algorithm_random(grafo):\n",
    "        # Aqui, diferente do primeiro, escolhe aleatoriamente os vértices por onde começar da fila vazia\n",
    "        in_g = {}\n",
    "        for n in grafo.keys():\n",
    "            in_g[n] = Algorithm.in_degree(grafo, n)\n",
    "\n",
    "        topo_order = []\n",
    "        visited_count = 0\n",
    "        fila_vazia = set()\n",
    "\n",
    "        zerados = Algorithm.nodes_zero_indegree(grafo, in_g)\n",
    "        fila_vazia = fila_vazia.union(zerados.difference(set(topo_order)))\n",
    "\n",
    "        while len(fila_vazia) != 0:\n",
    "            removido = random.sample(fila_vazia, 1)\n",
    "            fila_vazia = fila_vazia.difference(set(removido))\n",
    "            removido = removido[0]\n",
    "            topo_order.append(removido)\n",
    "\n",
    "            for n in grafo[removido]:\n",
    "                in_g[n] -= 1\n",
    "\n",
    "            zerados = Algorithm.nodes_zero_indegree(grafo, in_g)\n",
    "            fila_vazia = fila_vazia.union(zerados.difference(set(topo_order)))\n",
    "\n",
    "            visited_count += 1\n",
    "\n",
    "        return topo_order"
   ]
  },
  {
   "cell_type": "code",
   "execution_count": 8,
   "id": "6c49ed35",
   "metadata": {},
   "outputs": [],
   "source": [
    "grafo_exemplo = {\n",
    "    '2': set(),\n",
    "    '3': {'8', '10'},\n",
    "    '5': {'11'},\n",
    "    '7': {'8', '11'},\n",
    "    '8': {'9'},\n",
    "    '9': set(),\n",
    "    '10': set(),\n",
    "    '11': {'2', '9', '10'}\n",
    "}"
   ]
  },
  {
   "cell_type": "code",
   "execution_count": 9,
   "id": "6f1f596a",
   "metadata": {},
   "outputs": [
    {
     "data": {
      "text/plain": [
       "['5', '7', '11', '2', '3', '10', '8', '9']"
      ]
     },
     "execution_count": 9,
     "metadata": {},
     "output_type": "execute_result"
    }
   ],
   "source": [
    "Algorithm.kahn_algorithm(grafo_exemplo)"
   ]
  },
  {
   "cell_type": "code",
   "execution_count": 10,
   "id": "3936c543",
   "metadata": {},
   "outputs": [
    {
     "data": {
      "text/plain": [
       "['3', '7', '8', '5', '11', '9', '10', '2']"
      ]
     },
     "execution_count": 10,
     "metadata": {},
     "output_type": "execute_result"
    }
   ],
   "source": [
    "Algorithm.kahn_algorithm_random(grafo_exemplo)"
   ]
  },
  {
   "cell_type": "code",
   "execution_count": null,
   "id": "63646602",
   "metadata": {},
   "outputs": [],
   "source": []
  }
 ],
 "metadata": {
  "kernelspec": {
   "display_name": "Python 3",
   "language": "python",
   "name": "python3"
  },
  "language_info": {
   "codemirror_mode": {
    "name": "ipython",
    "version": 3
   },
   "file_extension": ".py",
   "mimetype": "text/x-python",
   "name": "python",
   "nbconvert_exporter": "python",
   "pygments_lexer": "ipython3",
   "version": "3.8.8"
  }
 },
 "nbformat": 4,
 "nbformat_minor": 5
}
