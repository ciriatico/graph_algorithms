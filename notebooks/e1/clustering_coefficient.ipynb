{
 "cells": [
  {
   "cell_type": "code",
   "execution_count": 9,
   "id": "fcf3f3bd",
   "metadata": {},
   "outputs": [],
   "source": [
    "class Algorithm:\n",
    "\n",
    "    def nodes_with_mutual_friends(graph_a, node_a):\n",
    "        # Método que retorna a quantidade de nós que tem nós adjacentes em comum\n",
    "        comuns = 0\n",
    "\n",
    "        for vizinho in graph_a[node_a]:\n",
    "            comuns += len(graph_a[vizinho].intersection(graph_a[node_a]))\n",
    "\n",
    "        # Como as arestas são contadas 2 vezes, 1 em cada lista dos vértices de origem, sua contagem precisa ser dividida\n",
    "        return comuns/2\n",
    "    \n",
    "    def local_clustering_coefficient(graph_a, node_a):\n",
    "        # Cálculo do coeficiente de aglomeração local, como visto em aula\n",
    "        k = len(graph_a[node_a])\n",
    "\n",
    "        # Se o nó tem apenas 1 vizinho, não é possível que os vizinhos desse nó sejam vizinhos entre si (um nó não pode ser vizinho de si mesmo)\n",
    "        if k <= 1:\n",
    "            return 0\n",
    "\n",
    "        n = Algorithm.nodes_with_mutual_friends(graph_a, node_a)\n",
    "\n",
    "        return (2*n)/(k*(k-1))\n",
    "    \n",
    "    def average_clustering_coefficient(graph_a):\n",
    "        # O coeficiente de aglomeração médio é a média dos coeficientes locais de aglomeração\n",
    "        local_coefficients = 0\n",
    "\n",
    "        for node in graph_a.keys():\n",
    "            local = Algorithm.local_clustering_coefficient(graph_a, node)\n",
    "            local_coefficients += local\n",
    "\n",
    "        return local_coefficients/len(graph_a.keys())"
   ]
  },
  {
   "cell_type": "code",
   "execution_count": 10,
   "id": "f1c6d217",
   "metadata": {},
   "outputs": [],
   "source": [
    "grafo_exemplo = {\n",
    "    \"0\": {\"1\", \"2\"},\n",
    "    \"1\": {\"0\", \"2\", \"5\"},\n",
    "    \"2\": {\"0\", \"1\", \"3\", \"4\"},\n",
    "    \"3\": {\"2\", \"4\", \"5\"},\n",
    "    \"4\": {\"2\", \"3\", \"5\", \"6\", \"7\"},\n",
    "    \"5\": {\"1\", \"3\", \"4\", \"6\", \"7\"},\n",
    "    \"6\": {\"4\", \"5\", \"7\"},\n",
    "    \"7\": {\"4\", \"5\", \"6\"}\n",
    "}"
   ]
  },
  {
   "cell_type": "code",
   "execution_count": 12,
   "id": "e6d9c3a3",
   "metadata": {},
   "outputs": [
    {
     "data": {
      "text/plain": [
       "0.3333333333333333"
      ]
     },
     "execution_count": 12,
     "metadata": {},
     "output_type": "execute_result"
    }
   ],
   "source": [
    "Algorithm.local_clustering_coefficient(grafo_exemplo, \"1\")"
   ]
  },
  {
   "cell_type": "code",
   "execution_count": 11,
   "id": "7930b107",
   "metadata": {},
   "outputs": [
    {
     "data": {
      "text/plain": [
       "0.6541666666666666"
      ]
     },
     "execution_count": 11,
     "metadata": {},
     "output_type": "execute_result"
    }
   ],
   "source": [
    "Algorithm.average_clustering_coefficient(grafo_exemplo)"
   ]
  },
  {
   "cell_type": "code",
   "execution_count": null,
   "id": "b44114f0",
   "metadata": {},
   "outputs": [],
   "source": []
  }
 ],
 "metadata": {
  "kernelspec": {
   "display_name": "Python 3",
   "language": "python",
   "name": "python3"
  },
  "language_info": {
   "codemirror_mode": {
    "name": "ipython",
    "version": 3
   },
   "file_extension": ".py",
   "mimetype": "text/x-python",
   "name": "python",
   "nbconvert_exporter": "python",
   "pygments_lexer": "ipython3",
   "version": "3.8.8"
  }
 },
 "nbformat": 4,
 "nbformat_minor": 5
}
