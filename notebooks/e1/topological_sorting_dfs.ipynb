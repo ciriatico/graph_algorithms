{
 "cells": [
  {
   "cell_type": "code",
   "execution_count": 1,
   "id": "3851e45e",
   "metadata": {},
   "outputs": [],
   "source": [
    "class Algorithm:\n",
    "    \n",
    "    def __init__(self, graph):\n",
    "        self.graph = graph\n",
    "        self.n = len(graph)\n",
    "        self.visited = [False]*(self.n)\n",
    "        \n",
    "    def reset_algorithm(self):\n",
    "        self.visited = [False]*(self.n)\n",
    "        self.stack = []\n",
    "\n",
    "    def topological_sorting_dfs(self, node_ind=0):\n",
    "        stack = []\n",
    "        self.depth_first_search_ts(node_ind, self.graph, self.visited, stack)\n",
    "        \n",
    "        while False in self.visited:\n",
    "            node_ind = (self.visited).index(False)\n",
    "            self.depth_first_search_ts(node_ind, self.graph, self.visited, stack)\n",
    "            \n",
    "        self.reset_algorithm()\n",
    "        \n",
    "        return stack\n",
    "        \n",
    "    def depth_first_search_ts(self, at, graph, visited, stack):\n",
    "        if visited[at]:\n",
    "            return\n",
    "        visited[at] = True\n",
    "\n",
    "        neighbours = list(graph.values())[at]\n",
    "        for nex in neighbours:\n",
    "            nex_in = list(graph.keys()).index(nex)\n",
    "            self.depth_first_search_ts(nex_in, graph, visited, stack)\n",
    "            \n",
    "        # Para a ordenação topológica, ao invés da árvore de visitação, temos uma pilha\n",
    "        stack.insert(0, list(graph.keys())[at])\n",
    "        \n",
    "        return stack"
   ]
  },
  {
   "cell_type": "code",
   "execution_count": 2,
   "id": "3c48cd2a",
   "metadata": {},
   "outputs": [],
   "source": [
    "grafo_exemplo = {\n",
    "    \"0\": set(),\n",
    "    \"1\": set(),\n",
    "    \"2\": {\"3\"},\n",
    "    \"3\": {\"1\"},\n",
    "    \"4\": {\"0\", \"1\"},\n",
    "    \"5\": {\"0\", \"2\"}\n",
    "}"
   ]
  },
  {
   "cell_type": "code",
   "execution_count": 3,
   "id": "790e8d07",
   "metadata": {},
   "outputs": [],
   "source": [
    "alg_grafo_exemplo = Algorithm(grafo_exemplo)"
   ]
  },
  {
   "cell_type": "code",
   "execution_count": 4,
   "id": "e1206d62",
   "metadata": {},
   "outputs": [
    {
     "data": {
      "text/plain": [
       "['5', '4', '2', '3', '1', '0']"
      ]
     },
     "execution_count": 4,
     "metadata": {},
     "output_type": "execute_result"
    }
   ],
   "source": [
    "alg_grafo_exemplo.topological_sorting_dfs()"
   ]
  },
  {
   "cell_type": "code",
   "execution_count": null,
   "id": "56e97aa5",
   "metadata": {},
   "outputs": [],
   "source": []
  }
 ],
 "metadata": {
  "kernelspec": {
   "display_name": "Python 3",
   "language": "python",
   "name": "python3"
  },
  "language_info": {
   "codemirror_mode": {
    "name": "ipython",
    "version": 3
   },
   "file_extension": ".py",
   "mimetype": "text/x-python",
   "name": "python",
   "nbconvert_exporter": "python",
   "pygments_lexer": "ipython3",
   "version": "3.8.8"
  }
 },
 "nbformat": 4,
 "nbformat_minor": 5
}
