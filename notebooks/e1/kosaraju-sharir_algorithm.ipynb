{
 "cells": [
  {
   "cell_type": "code",
   "execution_count": 14,
   "id": "8293cd2e",
   "metadata": {},
   "outputs": [],
   "source": [
    "class Algorithm:\n",
    "    \n",
    "    def __init__(self, graph):\n",
    "        self.graph = graph\n",
    "        self.n = len(graph)\n",
    "        self.visited = [False]*(self.n)\n",
    "        # Aqui, pilha é necessária pela forma como o algoritmo lida com a ordem (não vale árvore de visitação)\n",
    "        self.stack = []\n",
    "        \n",
    "    def dfs_graph(self, node_ind=0):\n",
    "        # Aplica o DFS para todo o grafo\n",
    "        # Percorre todos os vértices, entregando todas as rotas\n",
    "        stack_geral = []\n",
    "        self.depth_first_search(node_ind, self.graph, self.visited, self.stack)\n",
    "        stack_geral = self.stack + stack_geral\n",
    "        \n",
    "        while False in self.visited:\n",
    "            self.stack = []\n",
    "            node_ind = (self.visited).index(False)\n",
    "            self.depth_first_search(node_ind, self.graph, self.visited, self.stack)\n",
    "            stack_geral = self.stack + stack_geral\n",
    "                \n",
    "        return stack_geral\n",
    "        \n",
    "    def depth_first_search(self, at, graph, visited, stack):\n",
    "        if visited[at]:\n",
    "            return\n",
    "        visited[at] = True\n",
    "        \n",
    "        print(list(graph.keys())[at])\n",
    "                \n",
    "        neighbours = list(graph.values())[at]\n",
    "        for nex in neighbours:\n",
    "            nex_in = list(graph.keys()).index(nex)\n",
    "            self.depth_first_search(nex_in, graph, visited, stack)\n",
    "            \n",
    "        stack.insert(0, list(graph.keys())[at])\n",
    "        \n",
    "    def kosaraju_sharir(self, ordem):\n",
    "        stack_geral = []\n",
    "        \n",
    "        for i in ordem:\n",
    "            i = list(self.graph.keys()).index(i)\n",
    "            if (self.visited)[i] == False:\n",
    "                self.depth_first_search(i, self.graph, self.visited, self.stack)\n",
    "                stack_geral.insert(0, self.stack)\n",
    "                self.stack = []\n",
    "\n",
    "        return stack_geral"
   ]
  },
  {
   "cell_type": "code",
   "execution_count": 15,
   "id": "10f1555b",
   "metadata": {},
   "outputs": [],
   "source": [
    "def inverted_graph(graph):\n",
    "    inv_graph = {}\n",
    "\n",
    "    for node in graph.keys():\n",
    "        inv_graph[node] = set()\n",
    "\n",
    "    for node in graph.keys():\n",
    "        for v in graph[node]:\n",
    "            inv_graph[v].add(node)\n",
    "\n",
    "    return inv_graph"
   ]
  },
  {
   "cell_type": "code",
   "execution_count": 16,
   "id": "637a0d1f",
   "metadata": {},
   "outputs": [],
   "source": [
    "def apply_kosaraju_sharir(graph):\n",
    "    inv_graph = inverted_graph(graph)\n",
    "    \n",
    "    inv_graph_alg = Algorithm(inv_graph)\n",
    "    ordem = inv_graph_alg.dfs_graph()\n",
    "    \n",
    "    graph_alg = Algorithm(graph)\n",
    "    return graph_alg.kosaraju_sharir(ordem)"
   ]
  },
  {
   "cell_type": "code",
   "execution_count": 17,
   "id": "35464d31",
   "metadata": {},
   "outputs": [],
   "source": [
    "grafo_lista9 = {\n",
    "    \"A\": {\"B\", \"C\", \"F\"},\n",
    "    \"B\": {\"E\"},\n",
    "    \"C\": {\"D\"},\n",
    "    \"D\": {\"A\", \"H\"},\n",
    "    \"E\": {\"F\", \"G\", \"H\"},\n",
    "    \"F\": {\"B\", \"G\"},\n",
    "    \"G\": set(),\n",
    "    \"H\": {\"G\"}\n",
    "}"
   ]
  },
  {
   "cell_type": "code",
   "execution_count": 18,
   "id": "f6a2338f",
   "metadata": {},
   "outputs": [
    {
     "name": "stdout",
     "output_type": "stream",
     "text": [
      "A\n",
      "D\n",
      "C\n",
      "B\n",
      "F\n",
      "E\n",
      "G\n",
      "H\n",
      "G\n",
      "H\n",
      "B\n",
      "E\n",
      "F\n",
      "A\n",
      "C\n",
      "D\n"
     ]
    },
    {
     "data": {
      "text/plain": [
       "[['A', 'C', 'D'], ['B', 'E', 'F'], ['H'], ['G']]"
      ]
     },
     "execution_count": 18,
     "metadata": {},
     "output_type": "execute_result"
    }
   ],
   "source": [
    "apply_kosaraju_sharir(grafo_lista9)"
   ]
  },
  {
   "cell_type": "code",
   "execution_count": null,
   "id": "705b213b",
   "metadata": {},
   "outputs": [],
   "source": []
  },
  {
   "cell_type": "code",
   "execution_count": null,
   "id": "dd3f44f2",
   "metadata": {},
   "outputs": [],
   "source": []
  }
 ],
 "metadata": {
  "kernelspec": {
   "display_name": "Python 3",
   "language": "python",
   "name": "python3"
  },
  "language_info": {
   "codemirror_mode": {
    "name": "ipython",
    "version": 3
   },
   "file_extension": ".py",
   "mimetype": "text/x-python",
   "name": "python",
   "nbconvert_exporter": "python",
   "pygments_lexer": "ipython3",
   "version": "3.8.8"
  }
 },
 "nbformat": 4,
 "nbformat_minor": 5
}
