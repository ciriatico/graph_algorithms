{
 "cells": [
  {
   "cell_type": "code",
   "execution_count": 1,
   "id": "bdd9eeeb",
   "metadata": {},
   "outputs": [],
   "source": [
    "class Graph:\n",
    "    # Grafo unidirecional e sem peso\n",
    "    \n",
    "    def __init__(self):\n",
    "        # Estrutura escolhida é a lista de adjacências, implementada através de 1 dicionário que armazina sets\n",
    "        # Cada vértice é uma chave do dicionário, possuindo um set de adjacentes\n",
    "        self.graph = {}\n",
    "    \n",
    "    def insert_edge(self, v1, v2):\n",
    "        # O código não trabalha com estrutura de nós, apenas de grafo, para poder usufruir da junção entre dicionário e sets\n",
    "        # Assim, para adicionar uma aresta precisa primeiro adicionar os vértices da aresta no dicionário\n",
    "        if v1 not in self.graph:\n",
    "            self.graph[v1] = set()\n",
    "        if v2 not in self.graph:\n",
    "            self.graph[v2] = set()\n",
    "\n",
    "        self.graph[v1].add(v2)\n",
    "        self.graph[v2].add(v1)\n",
    "    \n",
    "    def edge_exists(self, v1, v2):\n",
    "        return v2 in self.graph[v1]\n",
    "    \n",
    "    def get_nodes(self):\n",
    "        return set(self.graph.keys())\n",
    "    \n",
    "    def adjacent_nodes(self, v):\n",
    "        return self.graph[v]\n",
    "    \n",
    "    def remove_edge(self, v1, v2):\n",
    "        self.graph[v1] = self.graph[v1].difference(v2)\n",
    "        self.graph[v2] = self.graph[v2].difference(v1)\n",
    "        \n",
    "    def print_graph(self):\n",
    "        # Imprimir o grafo como lista de adjacências\n",
    "        for n in self.graph.keys():\n",
    "            resultado = str(n) + \": \"\n",
    "            resultado += \" -> \".join(list(self.graph[n]))\n",
    "            print(resultado)"
   ]
  },
  {
   "cell_type": "code",
   "execution_count": 9,
   "id": "550e903e",
   "metadata": {},
   "outputs": [],
   "source": [
    "grafo_exemplo = Graph()"
   ]
  },
  {
   "cell_type": "code",
   "execution_count": 10,
   "id": "bf49cc6b",
   "metadata": {},
   "outputs": [],
   "source": [
    "grafo_exemplo.insert_edge(\"A\", \"B\")\n",
    "grafo_exemplo.insert_edge(\"B\", \"C\")\n",
    "grafo_exemplo.insert_edge(\"C\", \"D\")\n",
    "grafo_exemplo.insert_edge(\"C\", \"E\")\n",
    "grafo_exemplo.insert_edge(\"D\", \"E\")\n",
    "grafo_exemplo.insert_edge(\"D\", \"F\")\n",
    "grafo_exemplo.insert_edge(\"D\", \"G\")\n",
    "grafo_exemplo.insert_edge(\"E\", \"F\")"
   ]
  },
  {
   "cell_type": "code",
   "execution_count": 11,
   "id": "5c4ad540",
   "metadata": {},
   "outputs": [
    {
     "name": "stdout",
     "output_type": "stream",
     "text": [
      "A: B\n",
      "B: A -> C\n",
      "C: D -> B -> E\n",
      "D: G -> E -> F -> C\n",
      "E: D -> F -> C\n",
      "F: D -> E\n",
      "G: D\n"
     ]
    }
   ],
   "source": [
    "grafo_exemplo.print_graph()"
   ]
  },
  {
   "cell_type": "code",
   "execution_count": 12,
   "id": "43a84685",
   "metadata": {},
   "outputs": [
    {
     "data": {
      "text/plain": [
       "{'A', 'B', 'C', 'D', 'E', 'F', 'G'}"
      ]
     },
     "execution_count": 12,
     "metadata": {},
     "output_type": "execute_result"
    }
   ],
   "source": [
    "grafo_exemplo.get_nodes()"
   ]
  },
  {
   "cell_type": "code",
   "execution_count": 13,
   "id": "5b6a844e",
   "metadata": {},
   "outputs": [
    {
     "data": {
      "text/plain": [
       "True"
      ]
     },
     "execution_count": 13,
     "metadata": {},
     "output_type": "execute_result"
    }
   ],
   "source": [
    "grafo_exemplo.edge_exists(\"A\", \"B\")"
   ]
  },
  {
   "cell_type": "code",
   "execution_count": 14,
   "id": "af0aeed8",
   "metadata": {},
   "outputs": [
    {
     "data": {
      "text/plain": [
       "False"
      ]
     },
     "execution_count": 14,
     "metadata": {},
     "output_type": "execute_result"
    }
   ],
   "source": [
    "grafo_exemplo.edge_exists(\"A\", \"F\")"
   ]
  },
  {
   "cell_type": "code",
   "execution_count": 15,
   "id": "c4739872",
   "metadata": {},
   "outputs": [
    {
     "data": {
      "text/plain": [
       "{'B', 'D', 'E'}"
      ]
     },
     "execution_count": 15,
     "metadata": {},
     "output_type": "execute_result"
    }
   ],
   "source": [
    "grafo_exemplo.adjacent_nodes(\"C\")"
   ]
  },
  {
   "cell_type": "code",
   "execution_count": null,
   "id": "dcea7605",
   "metadata": {},
   "outputs": [],
   "source": []
  }
 ],
 "metadata": {
  "kernelspec": {
   "display_name": "Python 3",
   "language": "python",
   "name": "python3"
  },
  "language_info": {
   "codemirror_mode": {
    "name": "ipython",
    "version": 3
   },
   "file_extension": ".py",
   "mimetype": "text/x-python",
   "name": "python",
   "nbconvert_exporter": "python",
   "pygments_lexer": "ipython3",
   "version": "3.8.8"
  }
 },
 "nbformat": 4,
 "nbformat_minor": 5
}
