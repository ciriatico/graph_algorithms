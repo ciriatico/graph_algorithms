{
 "cells": [
  {
   "cell_type": "code",
   "execution_count": 1,
   "id": "637111b9",
   "metadata": {},
   "outputs": [],
   "source": [
    "class Algorithm:\n",
    "    \n",
    "    def __init__(self, graph):\n",
    "        self.graph = graph\n",
    "        self.n = len(graph)\n",
    "        self.visited = [False]*(self.n)\n",
    "        \n",
    "    def reset_algorithm(self):\n",
    "        self.visited = [False]*(self.n)\n",
    "        self.stack = []\n",
    "        \n",
    "    def dfs_pivot(self, start_node_ind):\n",
    "        visitation_tree = []\n",
    "        self.depth_first_search(start_node_ind, self.graph, self.visited, visitation_tree)\n",
    "        self.reset_algorithm()\n",
    "        \n",
    "        # Aqui, a forma de listagem escolhida é a árvore de visitação, representada em lista\n",
    "        return visitation_tree\n",
    "        \n",
    "    def dfs_graph(self, node_ind=0):\n",
    "        visitation_tree = []\n",
    "        self.depth_first_search(node_ind, self.graph, self.visited, visitation_tree)\n",
    "        \n",
    "        while False in self.visited:\n",
    "            node_ind = (self.visited).index(False)\n",
    "            self.depth_first_search(node_ind, self.graph, self.visited, visitation_tree)\n",
    "            \n",
    "        self.reset_algorithm()\n",
    "        \n",
    "        return visitation_tree\n",
    "        \n",
    "    def depth_first_search(self, at, graph, visited, visitation_tree):\n",
    "        # Pseudocódigo usado: https://www.youtube.com/watch?v=7fujbpJ0LB4&t=123s\n",
    "        if visited[at]:\n",
    "            return\n",
    "        visited[at] = True\n",
    "\n",
    "        visitation_tree.append(list(graph.keys())[at])\n",
    "\n",
    "        neighbours = list(graph.values())[at]\n",
    "        for nex in neighbours:\n",
    "            nex_in = list(graph.keys()).index(nex)\n",
    "            self.depth_first_search(nex_in, graph, visited, visitation_tree)\n",
    "        \n",
    "        return visitation_tree"
   ]
  },
  {
   "cell_type": "code",
   "execution_count": 2,
   "id": "e5b6653f",
   "metadata": {},
   "outputs": [],
   "source": [
    "grafo_exemplo = {\n",
    "    \"0\": {\"1\", \"9\"},\n",
    "    \"1\": {\"8\"},\n",
    "    \"2\": {\"3\"},\n",
    "    \"3\": {\"2\", \"4\", \"5\", \"7\"},\n",
    "    \"4\": {\"3\"},\n",
    "    \"5\": {\"3\", \"6\"},\n",
    "    \"6\": {\"5\", \"7\"},\n",
    "    \"7\": {\"3\", \"6\", \"8\", \"10\", \"11\"},\n",
    "    \"8\": {\"1\", \"7\", \"9\"},\n",
    "    \"9\": {\"0\", \"8\"},\n",
    "    \"10\": {\"7\", \"11\"},\n",
    "    \"11\": {\"7\", \"10\"}\n",
    "}"
   ]
  },
  {
   "cell_type": "code",
   "execution_count": 3,
   "id": "f4772ac7",
   "metadata": {},
   "outputs": [],
   "source": [
    "alg_exemplo = Algorithm(grafo_exemplo)"
   ]
  },
  {
   "cell_type": "code",
   "execution_count": 4,
   "id": "e0e600ed",
   "metadata": {},
   "outputs": [
    {
     "data": {
      "text/plain": [
       "['1', '8', '7', '3', '4', '2', '5', '6', '11', '10', '9', '0']"
      ]
     },
     "execution_count": 4,
     "metadata": {},
     "output_type": "execute_result"
    }
   ],
   "source": [
    "alg_exemplo.dfs_pivot(1)"
   ]
  },
  {
   "cell_type": "code",
   "execution_count": 5,
   "id": "a3b1a030",
   "metadata": {},
   "outputs": [
    {
     "data": {
      "text/plain": [
       "['0', '9', '8', '7', '3', '4', '2', '5', '6', '11', '10', '1']"
      ]
     },
     "execution_count": 5,
     "metadata": {},
     "output_type": "execute_result"
    }
   ],
   "source": [
    "alg_exemplo.dfs_graph()"
   ]
  },
  {
   "cell_type": "code",
   "execution_count": null,
   "id": "f70bce9e",
   "metadata": {},
   "outputs": [],
   "source": []
  }
 ],
 "metadata": {
  "kernelspec": {
   "display_name": "Python 3",
   "language": "python",
   "name": "python3"
  },
  "language_info": {
   "codemirror_mode": {
    "name": "ipython",
    "version": 3
   },
   "file_extension": ".py",
   "mimetype": "text/x-python",
   "name": "python",
   "nbconvert_exporter": "python",
   "pygments_lexer": "ipython3",
   "version": "3.8.8"
  }
 },
 "nbformat": 4,
 "nbformat_minor": 5
}
